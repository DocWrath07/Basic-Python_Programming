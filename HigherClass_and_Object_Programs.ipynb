{
  "nbformat": 4,
  "nbformat_minor": 0,
  "metadata": {
    "colab": {
      "provenance": []
    },
    "kernelspec": {
      "name": "python3",
      "display_name": "Python 3"
    },
    "language_info": {
      "name": "python"
    }
  },
  "cells": [
    {
      "cell_type": "code",
      "execution_count": null,
      "metadata": {
        "colab": {
          "base_uri": "https://localhost:8080/"
        },
        "id": "DpL-w-A9kKkt",
        "outputId": "a683e98e-0966-4063-b9c1-41a8468f1e75"
      },
      "outputs": [
        {
          "output_type": "stream",
          "name": "stdout",
          "text": [
            "\n",
            "\t Enter year: 1995\n",
            "It is an ordinary year\n"
          ]
        }
      ],
      "source": [
        "#Program to check whether a given year is leap year or not:\n",
        "\n",
        "yy = int(input(\"\\n\\t Enter year: \"))\n",
        "\n",
        "if(yy%400==0 or yy%100!=0 and yy%4==0):\n",
        "  print(yy, \" is a leap year\")\n",
        "\n",
        "else:\n",
        "  print(\"It is an ordinary year\")"
      ]
    },
    {
      "cell_type": "code",
      "source": [
        "#Indexable and iterable user defined Object\n",
        "str=\"\"\"\n",
        "__len__  ->Length\n",
        "__getitem__, __setitem__   ->Indexing and Slicing\n",
        "__iter__, __next__   ->Iterable\n",
        "\"\"\"\n",
        "\n",
        "#eg:-\n",
        "\n",
        "class MyArray:\n",
        "  def  __init__(self, *args):\n",
        "    self.mydata = [x for x in args if x%2==0]\n",
        "  def __len__(self):\n",
        "    return len(self.mydata)\n",
        "\n",
        "M =MyArray(1,2,3,4,5,6,7,8,10,12,11)\n",
        "print(\"No of elements: \", len(M))\n",
        "print(M.mydata)\n",
        "\n"
      ],
      "metadata": {
        "id": "LOjIZ9ao-2wQ",
        "colab": {
          "base_uri": "https://localhost:8080/"
        },
        "outputId": "66d7f005-0537-4afc-8dde-c7407aa2e027"
      },
      "execution_count": null,
      "outputs": [
        {
          "output_type": "stream",
          "name": "stdout",
          "text": [
            "No of elements:  6\n",
            "[2, 4, 6, 8, 10, 12]\n"
          ]
        }
      ]
    },
    {
      "cell_type": "code",
      "source": [
        "class MyArray:\n",
        "  def  __init__(self, *args):\n",
        "    self.mydata = [x for x in args if x%2==0]\n",
        "  def __len__(self):\n",
        "    return len(self.mydata)\n",
        "  def __getitem__(self, index):\n",
        "    if isinstance(index):\n",
        "       return self.mydata[index]\n",
        "  def __setitem__(self,index,value):\n",
        "    print(\"calling setitem....\")\n",
        "    if value%2==0:\n",
        "      self.mydata[index] = value\n",
        "\n",
        "M =MyArray(12, 13, 17, 22, 44, 72, 54, 80)\n",
        "print(\"No of elements: \", len(M))\n",
        "print(M.mydata)\n",
        "M[3] = 14\n",
        "\n",
        "print(\"Accessng thru indexing....\")\n",
        "for i in range(0,len(M)):\n",
        "  print(M[i])\n",
        "print()\n",
        "\n",
        "\n",
        "print(\"Accessng thru Slicing......\")\n",
        "M[3:5] = [40,50,70]\n",
        "print(M[2:7])"
      ],
      "metadata": {
        "colab": {
          "base_uri": "https://localhost:8080/",
          "height": 436
        },
        "id": "aHu2EQlxEQHq",
        "outputId": "1e654d8b-2e2d-4ee3-f1cf-6ce6f778a882"
      },
      "execution_count": null,
      "outputs": [
        {
          "output_type": "stream",
          "name": "stdout",
          "text": [
            "No of elements:  3\n",
            "[12, 22, 44]\n",
            "calling setitem....\n"
          ]
        },
        {
          "output_type": "error",
          "ename": "IndexError",
          "evalue": "ignored",
          "traceback": [
            "\u001b[0;31m---------------------------------------------------------------------------\u001b[0m",
            "\u001b[0;31mIndexError\u001b[0m                                Traceback (most recent call last)",
            "\u001b[0;32m<ipython-input-16-6e260c829dcf>\u001b[0m in \u001b[0;36m<cell line: 18>\u001b[0;34m()\u001b[0m\n\u001b[1;32m     16\u001b[0m \u001b[0mprint\u001b[0m\u001b[0;34m(\u001b[0m\u001b[0;34m\"No of elements: \"\u001b[0m\u001b[0;34m,\u001b[0m \u001b[0mlen\u001b[0m\u001b[0;34m(\u001b[0m\u001b[0mM\u001b[0m\u001b[0;34m)\u001b[0m\u001b[0;34m)\u001b[0m\u001b[0;34m\u001b[0m\u001b[0;34m\u001b[0m\u001b[0m\n\u001b[1;32m     17\u001b[0m \u001b[0mprint\u001b[0m\u001b[0;34m(\u001b[0m\u001b[0mM\u001b[0m\u001b[0;34m.\u001b[0m\u001b[0mmydata\u001b[0m\u001b[0;34m)\u001b[0m\u001b[0;34m\u001b[0m\u001b[0;34m\u001b[0m\u001b[0m\n\u001b[0;32m---> 18\u001b[0;31m \u001b[0mM\u001b[0m\u001b[0;34m[\u001b[0m\u001b[0;36m3\u001b[0m\u001b[0;34m]\u001b[0m \u001b[0;34m=\u001b[0m \u001b[0;36m14\u001b[0m\u001b[0;34m\u001b[0m\u001b[0;34m\u001b[0m\u001b[0m\n\u001b[0m\u001b[1;32m     19\u001b[0m \u001b[0;34m\u001b[0m\u001b[0m\n\u001b[1;32m     20\u001b[0m \u001b[0mprint\u001b[0m\u001b[0;34m(\u001b[0m\u001b[0;34m\"Accessng thru indexing....\"\u001b[0m\u001b[0;34m)\u001b[0m\u001b[0;34m\u001b[0m\u001b[0;34m\u001b[0m\u001b[0m\n",
            "\u001b[0;32m<ipython-input-16-6e260c829dcf>\u001b[0m in \u001b[0;36m__setitem__\u001b[0;34m(self, index, value)\u001b[0m\n\u001b[1;32m     11\u001b[0m     \u001b[0mprint\u001b[0m\u001b[0;34m(\u001b[0m\u001b[0;34m\"calling setitem....\"\u001b[0m\u001b[0;34m)\u001b[0m\u001b[0;34m\u001b[0m\u001b[0;34m\u001b[0m\u001b[0m\n\u001b[1;32m     12\u001b[0m     \u001b[0;32mif\u001b[0m \u001b[0mvalue\u001b[0m\u001b[0;34m%\u001b[0m\u001b[0;36m2\u001b[0m\u001b[0;34m==\u001b[0m\u001b[0;36m0\u001b[0m\u001b[0;34m:\u001b[0m\u001b[0;34m\u001b[0m\u001b[0;34m\u001b[0m\u001b[0m\n\u001b[0;32m---> 13\u001b[0;31m       \u001b[0mself\u001b[0m\u001b[0;34m.\u001b[0m\u001b[0mmydata\u001b[0m\u001b[0;34m[\u001b[0m\u001b[0mindex\u001b[0m\u001b[0;34m]\u001b[0m \u001b[0;34m=\u001b[0m \u001b[0mvalue\u001b[0m\u001b[0;34m\u001b[0m\u001b[0;34m\u001b[0m\u001b[0m\n\u001b[0m\u001b[1;32m     14\u001b[0m \u001b[0;34m\u001b[0m\u001b[0m\n\u001b[1;32m     15\u001b[0m \u001b[0mM\u001b[0m \u001b[0;34m=\u001b[0m\u001b[0mMyArray\u001b[0m\u001b[0;34m(\u001b[0m\u001b[0;36m12\u001b[0m\u001b[0;34m,\u001b[0m \u001b[0;36m13\u001b[0m\u001b[0;34m,\u001b[0m \u001b[0;36m17\u001b[0m\u001b[0;34m,\u001b[0m \u001b[0;36m22\u001b[0m\u001b[0;34m,\u001b[0m \u001b[0;36m44\u001b[0m\u001b[0;34m)\u001b[0m\u001b[0;34m\u001b[0m\u001b[0;34m\u001b[0m\u001b[0m\n",
            "\u001b[0;31mIndexError\u001b[0m: list assignment index out of range"
          ]
        }
      ]
    },
    {
      "cell_type": "code",
      "source": [
        "class MyArray:\n",
        "    def __init__(self, *args):\n",
        "        self.mydata = [x for x in args if x % 2 == 0]\n",
        "\n",
        "    def __len__(self):\n",
        "        return len(self.mydata)\n",
        "\n",
        "    def __getitem__(self, index):\n",
        "        if isinstance(index, int):\n",
        "            return self.mydata[index]\n",
        "        elif isinstance(index, slice):\n",
        "            return MyArray(*self.mydata[index])\n",
        "\n",
        "    def __setitem__(self, index, value):\n",
        "        if isinstance(index, int) and isinstance(value, int):\n",
        "            if value % 2 == 0:\n",
        "                self.mydata[index] = value\n",
        "        elif isinstance(index, slice) and isinstance(value, list):\n",
        "            for i, v in enumerate(value):\n",
        "                if v % 2 == 0:\n",
        "                    self.mydata[index.start + i] = v\n",
        "\n",
        "M = MyArray(12, 13, 17, 22, 44, 72, 54, 80)\n",
        "print(\"No of elements:\", len(M))\n",
        "print(M.mydata)\n",
        "M[3] = 14\n",
        "\n",
        "print(\"Accessing through indexing...\")\n",
        "for i in range(len(M)):\n",
        "    print(M[i])\n",
        "print()\n",
        "\n",
        "print(\"Accessing through slicing...\")\n",
        "M[3:5] = [40, 50, 70]\n",
        "print(M[2:7])\n",
        "\n"
      ],
      "metadata": {
        "colab": {
          "base_uri": "https://localhost:8080/"
        },
        "id": "wrudOtvGHelu",
        "outputId": "5a9e0ffe-c643-4636-8bcf-483ead2a0f57"
      },
      "execution_count": null,
      "outputs": [
        {
          "output_type": "stream",
          "name": "stdout",
          "text": [
            "No of elements: 6\n",
            "[12, 22, 44, 72, 54, 80]\n",
            "Accessing through indexing...\n",
            "12\n",
            "22\n",
            "44\n",
            "14\n",
            "54\n",
            "80\n",
            "\n",
            "Accessing through slicing...\n",
            "<__main__.MyArray object at 0x7ac7a4890b50>\n"
          ]
        }
      ]
    },
    {
      "cell_type": "code",
      "source": [
        "stre=\"\"\"class MyComplex:\n",
        "    def __init__(self, real, imag):\n",
        "        self.real = real\n",
        "        self.imag = imag\n",
        "\n",
        "    def get_real(self):\n",
        "        return self.real\n",
        "\n",
        "    def get_imag(self):\n",
        "        return self.imag\n",
        "\n",
        "    def set_real(self, real):\n",
        "        self.real = real\n",
        "\n",
        "    def set_imag(self, imag):\n",
        "        self.imag = imag\n",
        "\n",
        "# Example usage\n",
        "c = MyComplex(10, 20)\n",
        "print(\"Real part:\", c.get_real())\n",
        "print(\"Imaginary part:\", c.get_imag())\n",
        "\n",
        "c.set_real(5)\n",
        "c.set_imag(6)\n",
        "print(\"Updated real part:\", c.get_real())\n",
        "print(\"Updated imaginary part:\", c.get_imag())\n",
        "\n",
        "\"\"\"\n",
        "class MyComplex:\n",
        "    def __init__(self, real, imag):\n",
        "        self.real = real\n",
        "        self.imag = imag\n",
        "\n",
        "    def get_real(self):\n",
        "        return self.real\n",
        "\n",
        "    def get_imag(self):\n",
        "        return self.imag\n",
        "\n",
        "    def set_real(self, real):\n",
        "        self.real = real\n",
        "\n",
        "    def set_imag(self, imag):\n",
        "        self.imag = imag\n",
        "\n",
        "# Example usage\n",
        "c = MyComplex(3, 4)\n",
        "\n",
        "# Separating real and imaginary parts using a for loop\n",
        "parts = [\"Real\", \"Imaginary\"]\n",
        "values = [c.get_real(), c.get_imag()]\n",
        "\n",
        "for part, value in zip(parts, values):\n",
        "    print(f\"{part} part: {value}\")\n",
        "\n",
        "# Updating real and imaginary parts using a for loop\n",
        "new_values = [5, 6]\n",
        "\n",
        "for part, new_value in zip(parts, new_values):\n",
        "    if part == \"Real\":\n",
        "        c.set_real(new_value)\n",
        "    elif part == \"Imaginary\":\n",
        "        c.set_imag(new_value)\n",
        "\n",
        "# Separating updated real and imaginary parts using a for loop\n",
        "updated_values = [c.get_real(), c.get_imag()]\n",
        "\n",
        "for part, value in zip(parts, updated_values):\n",
        "    print(f\"Updated {part} part: {value}\")\n",
        "\n"
      ],
      "metadata": {
        "colab": {
          "base_uri": "https://localhost:8080/"
        },
        "id": "4627V6DDEvls",
        "outputId": "ccd927c6-232f-4910-b596-ad2ee363b117"
      },
      "execution_count": null,
      "outputs": [
        {
          "output_type": "stream",
          "name": "stdout",
          "text": [
            "Real part: 3\n",
            "Imaginary part: 4\n",
            "Updated Real part: 5\n",
            "Updated Imaginary part: 6\n"
          ]
        }
      ]
    },
    {
      "cell_type": "code",
      "source": [
        "class Point:\n",
        "    def __init__(self, x, y, z):\n",
        "        self.coordinates = [x, y, z]\n",
        "\n",
        "    def __getitem__(self, index):\n",
        "        return self.coordinates[index]\n",
        "\n",
        "    def __setitem__(self, index, value):\n",
        "        self.coordinates[index] = value\n",
        "\n",
        "# Example usage\n",
        "p = Point(1, 2, 3)\n",
        "\n",
        "# Accessing coordinates using __getitem__\n",
        "print(\"x-coordinate:\", p[0])\n",
        "print(\"y-coordinate:\", p[1])\n",
        "print(\"z-coordinate:\", p[2])\n",
        "\n",
        "# Modifying coordinates using __setitem__\n",
        "p[0] = 4\n",
        "p[1] = 5\n",
        "p[2] = 6\n",
        "\n",
        "# Accessing updated coordinates using __getitem__\n",
        "print(\"Updated x-coordinate:\", p[0])\n",
        "print(\"Updated y-coordinate:\", p[1])\n",
        "print(\"Updated z-coordinate:\", p[2])\n"
      ],
      "metadata": {
        "id": "yEgNK5wVNzSM",
        "outputId": "083b6742-8b4d-41ea-8a2b-302af5c54e49",
        "colab": {
          "base_uri": "https://localhost:8080/"
        }
      },
      "execution_count": 1,
      "outputs": [
        {
          "output_type": "stream",
          "name": "stdout",
          "text": [
            "x-coordinate: 1\n",
            "y-coordinate: 2\n",
            "z-coordinate: 3\n",
            "Updated x-coordinate: 4\n",
            "Updated y-coordinate: 5\n",
            "Updated z-coordinate: 6\n"
          ]
        }
      ]
    },
    {
      "cell_type": "code",
      "source": [
        "#Static Methods: can access the class attributes\n",
        "class Calc:\n",
        "   c=0\n",
        "   def add(a,b):\n",
        "      Calc.c = a+b\n",
        "      sadd = staticmethod(add())\n",
        "Calc.sadd(4,5)\n",
        "print(\"c\", Calc.c)\n"
      ],
      "metadata": {
        "colab": {
          "base_uri": "https://localhost:8080/",
          "height": 236
        },
        "id": "VWDJ6N0wtpgf",
        "outputId": "109d7363-ab1c-4e18-db67-49fb1958a5ff"
      },
      "execution_count": 8,
      "outputs": [
        {
          "output_type": "error",
          "ename": "AttributeError",
          "evalue": "ignored",
          "traceback": [
            "\u001b[0;31m---------------------------------------------------------------------------\u001b[0m",
            "\u001b[0;31mAttributeError\u001b[0m                            Traceback (most recent call last)",
            "\u001b[0;32m<ipython-input-8-49f8237ab273>\u001b[0m in \u001b[0;36m<cell line: 7>\u001b[0;34m()\u001b[0m\n\u001b[1;32m      5\u001b[0m       \u001b[0mCalc\u001b[0m\u001b[0;34m.\u001b[0m\u001b[0mc\u001b[0m \u001b[0;34m=\u001b[0m \u001b[0ma\u001b[0m\u001b[0;34m+\u001b[0m\u001b[0mb\u001b[0m\u001b[0;34m\u001b[0m\u001b[0;34m\u001b[0m\u001b[0m\n\u001b[1;32m      6\u001b[0m       \u001b[0msadd\u001b[0m \u001b[0;34m=\u001b[0m \u001b[0mstaticmethod\u001b[0m\u001b[0;34m(\u001b[0m\u001b[0madd\u001b[0m\u001b[0;34m(\u001b[0m\u001b[0;34m)\u001b[0m\u001b[0;34m)\u001b[0m\u001b[0;34m\u001b[0m\u001b[0;34m\u001b[0m\u001b[0m\n\u001b[0;32m----> 7\u001b[0;31m \u001b[0mCalc\u001b[0m\u001b[0;34m.\u001b[0m\u001b[0msadd\u001b[0m\u001b[0;34m(\u001b[0m\u001b[0;36m4\u001b[0m\u001b[0;34m,\u001b[0m\u001b[0;36m5\u001b[0m\u001b[0;34m)\u001b[0m\u001b[0;34m\u001b[0m\u001b[0;34m\u001b[0m\u001b[0m\n\u001b[0m\u001b[1;32m      8\u001b[0m \u001b[0mprint\u001b[0m\u001b[0;34m(\u001b[0m\u001b[0;34m\"c\"\u001b[0m\u001b[0;34m,\u001b[0m \u001b[0mCalc\u001b[0m\u001b[0;34m.\u001b[0m\u001b[0mc\u001b[0m\u001b[0;34m)\u001b[0m\u001b[0;34m\u001b[0m\u001b[0;34m\u001b[0m\u001b[0m\n",
            "\u001b[0;31mAttributeError\u001b[0m: type object 'Calc' has no attribute 'sadd'"
          ]
        }
      ]
    },
    {
      "cell_type": "code",
      "source": [
        "class Super:\n",
        "   n_obj=0\n",
        "   @classmethod\n",
        "   def increment(cls):\n",
        "     Super.n_obj += 1\n",
        "     cls.n_obj += 1\n",
        "   inc = classmethod(increment)\n",
        "\n",
        "class Sub1(Super):\n",
        "   n_obj=0\n",
        "   def __init__(self):\n",
        "      self.inc()\n",
        "\n",
        "class Sub2(Super):\n",
        "   n_obj=0\n",
        "   def __init__(self):\n",
        "      self.inc()\n",
        "\n",
        "S1 = Sub1()\n",
        "S2 = Sub1()\n",
        "S3 = Sub2()\n",
        "S4 = Sub1()\n",
        "S5 = Sub2()\n",
        "print(\"Sub1 Objects: \", Sub1.n_obj)\n",
        "print(\"Sub2 Objects: \", Sub2.n_obj)\n",
        "print(\"Super Class Objects: \", Super.n_obj)"
      ],
      "metadata": {
        "colab": {
          "base_uri": "https://localhost:8080/"
        },
        "id": "pVBW0YFvwBry",
        "outputId": "2e9f769b-a402-4c92-94f2-e2bb92da0f7b"
      },
      "execution_count": 11,
      "outputs": [
        {
          "output_type": "stream",
          "name": "stdout",
          "text": [
            "Sub1 Objects:  3\n",
            "Sub2 Objects:  2\n",
            "Super Class Objects:  5\n"
          ]
        }
      ]
    },
    {
      "cell_type": "code",
      "source": [
        "#User Defined Exception\n",
        "\n",
        "class InvalidInputError(Exception):\n",
        "   def __init__(self, msg):\n",
        "     self.error_msg = msg\n",
        "\n",
        "   def __str__(self):\n",
        "     return \"Invalid Input: \"+self.error_msg\n",
        "\n",
        "def getMark():\n",
        "    x=nt(input(\"\\n\\t Enter mark: \"))\n",
        "    if x<0 or x>=100:\n",
        "         raise InvalidInputError(str(x))\n",
        "try:\n",
        "    mark = int(input(\"Enter mark: \"))\n",
        "    if mark < 0 or mark >= 100:\n",
        "        raise InvalidInputError(str(mark))\n",
        "    print(\"Your mark:\", mark)\n",
        "except InvalidInputError as e:\n",
        "    print(e)\n"
      ],
      "metadata": {
        "colab": {
          "base_uri": "https://localhost:8080/"
        },
        "id": "06mZ5uzFxTwh",
        "outputId": "edf0de0a-b9bc-4765-ec49-3b4f3ed61b61"
      },
      "execution_count": 14,
      "outputs": [
        {
          "output_type": "stream",
          "name": "stdout",
          "text": [
            "Enter mark: 24\n",
            "Your mark: 24\n"
          ]
        }
      ]
    },
    {
      "cell_type": "code",
      "source": [
        "class InvalidInputError(Exception):\n",
        "    def __init__(self, msg):\n",
        "        self.error_msg = msg\n",
        "\n",
        "    def __str__(self):\n",
        "        return \"Invalid Input: \" + self.error_msg\n",
        "\n",
        "\n",
        "def getInput():\n",
        "    marks = []\n",
        "    n = int(input(\"Enter the number of marks: \"))\n",
        "\n",
        "    for i in range(n):\n",
        "        mark = int(input(\"Enter mark {}: \".format(i+1)))\n",
        "        if mark < 0 or mark >= 100:\n",
        "            raise InvalidInputError(str(mark))\n",
        "        marks.append(mark)\n",
        "    return marks\n",
        "\n",
        "\n",
        "def evalExp():\n",
        "    try:\n",
        "        marks = getInput()\n",
        "        print(\"Your marks:\", marks)\n",
        "    except InvalidInputError as e:\n",
        "        raise\n",
        "\n",
        "\n",
        "try:\n",
        "    evalExp()\n",
        "except InvalidInputError as e:\n",
        "    print(e)"
      ],
      "metadata": {
        "colab": {
          "base_uri": "https://localhost:8080/"
        },
        "id": "D_SV5PpKzH7K",
        "outputId": "19410ee7-7a0e-4c87-d039-17e62d3c1960"
      },
      "execution_count": 17,
      "outputs": [
        {
          "output_type": "stream",
          "name": "stdout",
          "text": [
            "Enter the number of marks: 4\n",
            "Enter mark 1: 45\n",
            "Enter mark 2: 56\n",
            "Enter mark 3: 101\n",
            "Invalid Input: 101\n"
          ]
        }
      ]
    },
    {
      "cell_type": "code",
      "source": [
        "4?#a function that is passed as an argument to another function, and is called after the main function has finished its execution/"
      ],
      "metadata": {
        "id": "d3yEoCQ3ztrD"
      },
      "execution_count": null,
      "outputs": []
    }
  ]
}